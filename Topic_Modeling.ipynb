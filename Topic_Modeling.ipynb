{
 "cells": [
  {
   "cell_type": "markdown",
   "metadata": {},
   "source": [
    "# KeyBERT or BERTopic?\n",
    "Both libraries use BERT to extract keywords from the documents in the dataset. However, they provide different data. MaartenGr, the owner of both libraries on Github, explains the differences between them in this link: https://coder.social/MaartenGr/KeyBERT/issues/60 . Unrelated, but interesting to note, is that he created both libraries and is based in Tilburg. This block provides a summary of the link.\n",
    "\n",
    "**About BERTopic:**\n",
    "*Steps*\n",
    "- Embedding documents\n",
    "- Clustering documents\n",
    "- Creating a topic representation.\n",
    "> The main output of BERTopic is a set of words per topic. Thus, multiple documents have the same topic representation.\n",
    "\n",
    "**About KeyBERT:**\n",
    "- Embedding documents\n",
    "- Creating candidate keywords\n",
    "- Calculating best keywords through either MMR, Max Sum Similarity, or Cosine Similarity\n",
    "> The main output of KeyBERT is a set of words per document. Thus, each document is expected to have different keywords.\n",
    "\n",
    "**Difference in output:**\n",
    "> BERTopic aims to cluster documents and create a broad representation of multiple documents whereas KeyBERT does not.\n",
    "\n",
    "**Finally, a note on when to use each:**\n",
    "> BERTopic, and in that sense most topic modeling techniques, are meant to explore the data to create an understanding of the perhaps millions of documents that you have collected. KeyBERT, in contrast, is not able to do this as it creates a completely different set of words per document. An example of using KeyBERT, and in that sense most keyword extraction algorithms, is automatically creating relevant keywords for content (blogs, articles, etc.) that businesses post on their website.\n",
    "\n",
    "In conclusion, we use KeyBERT for extracting keywords, and BERTopic to cluster the documents into topics. This should suffice for part 2's inputs: \"topics and keywords.\""
   ]
  }
 ],
 "metadata": {
  "kernelspec": {
   "display_name": "Python 3.10.6 ('venv': venv)",
   "language": "python",
   "name": "python3"
  },
  "language_info": {
   "name": "python",
   "version": "3.10.6"
  },
  "orig_nbformat": 4,
  "vscode": {
   "interpreter": {
    "hash": "37b43152a2d59eb046527c16c5d32b4224af5ad40dad756a1f0cd521cf77249d"
   }
  }
 },
 "nbformat": 4,
 "nbformat_minor": 2
}
